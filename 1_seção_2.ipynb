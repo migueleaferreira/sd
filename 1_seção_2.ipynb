{
  "nbformat": 4,
  "nbformat_minor": 0,
  "metadata": {
    "colab": {
      "provenance": [],
      "authorship_tag": "ABX9TyPWiPobTI6l9SFdo+uET6s/",
      "include_colab_link": true
    },
    "kernelspec": {
      "name": "python3",
      "display_name": "Python 3"
    },
    "language_info": {
      "name": "python"
    }
  },
  "cells": [
    {
      "cell_type": "markdown",
      "metadata": {
        "id": "view-in-github",
        "colab_type": "text"
      },
      "source": [
        "<a href=\"https://colab.research.google.com/github/migueleaferreira/sd/blob/main/1_se%C3%A7%C3%A3o_2.ipynb\" target=\"_parent\"><img src=\"https://colab.research.google.com/assets/colab-badge.svg\" alt=\"Open In Colab\"/></a>"
      ]
    },
    {
      "cell_type": "code",
      "source": [
        "# -*- coding: utf-8 -*-\n",
        "\n",
        "# Definição das categorias de sistemas computacionais\n",
        "sistemas = {\n",
        "    \"Centralizados\": {\n",
        "        \"Definição\": \"Conjunto de máquinas que dependem de um servidor central (mainframe) para processar informações.\",\n",
        "        \"Vantagens\": [\n",
        "            \"Alta estabilidade\",\n",
        "            \"Robustez\",\n",
        "            \"Segurança\",\n",
        "            \"Facilidade de gerenciamento\"\n",
        "        ],\n",
        "        \"Desvantagens\": [\n",
        "            \"Baixa escalabilidade\",\n",
        "            \"Baixa produtividade\",\n",
        "            \"Alto custo de implementação\",\n",
        "            \"Uso de linguagens antigas\",\n",
        "            \"Falta de profissionais qualificados\"\n",
        "        ],\n",
        "        \"Exemplo\": \"Bancos utilizando mainframes.\"\n",
        "    },\n",
        "    \"Paralelos\": {\n",
        "        \"Definição\": \"Executam simultaneamente várias partes de uma mesma aplicação.\",\n",
        "        \"Vantagens\": [\n",
        "            \"Alta escalabilidade\",\n",
        "            \"Alta produtividade\",\n",
        "            \"Mais econômicos\"\n",
        "        ],\n",
        "        \"Desvantagens\": [\n",
        "            \"Gerenciamento mais complexo\",\n",
        "            \"Menor segurança\"\n",
        "        ],\n",
        "        \"Subdivisões\": {\n",
        "            \"Fortemente Acoplados\": {\n",
        "                \"Definição\": \"Processadores compartilham memória e se comunicam por barramentos internos.\",\n",
        "                \"Exemplo\": \"Smartphone Galaxy S8 octa-core com 4GB RAM.\"\n",
        "            },\n",
        "            \"Fracamente Acoplados\": {\n",
        "                \"Definição\": \"Sistemas conectados via rede, arquiteturas cliente-servidor, P2P ou descentralizadas.\",\n",
        "                \"Vantagens\": [\n",
        "                    \"Melhor desempenho\",\n",
        "                    \"Flexibilidade\",\n",
        "                    \"Escalabilidade\"\n",
        "                ],\n",
        "                \"Desvantagens\": [\n",
        "                    \"Velocidade de transferência menor\",\n",
        "                    \"Segurança mais vulnerável\"\n",
        "                ]\n",
        "            }\n",
        "        }\n",
        "    }\n",
        "}\n",
        "\n",
        "# Função para mostrar informações\n",
        "def mostrar_info(categoria):\n",
        "    cat = sistemas.get(categoria)\n",
        "    if not cat:\n",
        "        print(\"Categoria não encontrada!\")\n",
        "        return\n",
        "\n",
        "    print(f\"\\n=== {categoria} ===\")\n",
        "    for chave, valor in cat.items():\n",
        "        if isinstance(valor, dict):\n",
        "            print(f\"\\nSubdivisões:\")\n",
        "            for sub, sub_val in valor.items():\n",
        "                print(f\"\\n{sub}:\")\n",
        "                for k, v in sub_val.items():\n",
        "                    print(f\"  {k}: {v}\")\n",
        "        else:\n",
        "            print(f\"{chave}: {valor}\")\n",
        "\n",
        "# Interface interativa\n",
        "while True:\n",
        "    print(\"\\nDigite a categoria para ver informações (Centralizados / Paralelos) ou 'sair' para encerrar:\")\n",
        "    entrada = input(\"Categoria: \")\n",
        "    if entrada.lower() == \"sair\":\n",
        "        break\n",
        "    mostrar_info(entrada)\n"
      ],
      "metadata": {
        "colab": {
          "base_uri": "https://localhost:8080/"
        },
        "id": "p2rB0Cf6brFE",
        "outputId": "912608e1-ec49-47d5-8ebb-8bf935c77e2e"
      },
      "execution_count": null,
      "outputs": [
        {
          "output_type": "stream",
          "name": "stdout",
          "text": [
            "\n",
            "Digite a categoria para ver informações (Centralizados / Paralelos) ou 'sair' para encerrar:\n",
            "Categoria: centralizado\n",
            "Categoria não encontrada!\n",
            "\n",
            "Digite a categoria para ver informações (Centralizados / Paralelos) ou 'sair' para encerrar:\n"
          ]
        }
      ]
    }
  ]
}
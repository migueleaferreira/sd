{
  "nbformat": 4,
  "nbformat_minor": 0,
  "metadata": {
    "colab": {
      "provenance": [],
      "authorship_tag": "ABX9TyNo7rmNwXPqQURweOSSrjum",
      "include_colab_link": true
    },
    "kernelspec": {
      "name": "python3",
      "display_name": "Python 3"
    },
    "language_info": {
      "name": "python"
    }
  },
  "cells": [
    {
      "cell_type": "markdown",
      "metadata": {
        "id": "view-in-github",
        "colab_type": "text"
      },
      "source": [
        "<a href=\"https://colab.research.google.com/github/migueleaferreira/sd/blob/main/Untitled.ipynb\" target=\"_parent\"><img src=\"https://colab.research.google.com/assets/colab-badge.svg\" alt=\"Open In Colab\"/></a>"
      ]
    },
    {
      "cell_type": "code",
      "source": [
        "import ntplib\n",
        "from time import ctime\n",
        "\n",
        "print(\"--- Demonstração de Sincronização de Relógios com NTP ---\")\n",
        "print(\"Baseado no conceito de que sistemas distribuídos precisam sincronizar suas ações [1]\")\n",
        "\n",
        "# Servidor NTP público para consulta\n",
        "# O NTP opera sobre UDP na porta 123 [1]\n",
        "NTP_SERVER = 'pool.ntp.org'\n",
        "\n",
        "try:\n",
        "    # Cria um cliente NTP\n",
        "    client = ntplib.NTPClient()\n",
        "\n",
        "    # Solicita a hora ao servidor NTP\n",
        "    # Esta função calcula a latência para ajustar a hora com precisão [1]\n",
        "    response = client.request(NTP_SERVER, version=3)\n",
        "\n",
        "    # Converte a hora recebida (formato epoch) para um formato legível\n",
        "    sincronized_time = ctime(response.tx_time)\n",
        "\n",
        "    print(f\"\\nServidor NTP consultado: {NTP_SERVER}\")\n",
        "    print(f\"Hora atual do sistema (local): {ctime()}\")\n",
        "    print(f\"**Hora Sincronizada (NTP): {sincronized_time}**\")\n",
        "    print(f\"Atraso (offset) detectado: {response.offset:.4f} segundos\")\n",
        "    print(f\"Latência da rede (delay): {response.delay:.4f} segundos\")\n",
        "\n",
        "    print(\"\\nEste exemplo ilustra como o Network Time Protocol (NTP) é usado para sincronizar relógios de máquinas e dispositivos de rede [1].\")\n",
        "    print(\"A precisão é fundamental, pois problemas com o horário podem afetar serviços de autenticação e acesso remoto [1].\")\n",
        "\n",
        "except Exception as e:\n",
        "    print(f\"\\nOcorreu um erro ao tentar sincronizar o relógio: {e}\")\n",
        "    print(\"Verifique sua conexão com a internet ou tente um servidor NTP diferente.\")\n",
        "    print(\"Certifique-se de que a biblioteca 'ntplib' está instalada.\")"
      ],
      "metadata": {
        "colab": {
          "base_uri": "https://localhost:8080/"
        },
        "id": "n1v9n5Kf0FOn",
        "outputId": "86c06110-2a76-4e0e-fe04-0963f3e8c39c"
      },
      "execution_count": 5,
      "outputs": [
        {
          "output_type": "stream",
          "name": "stdout",
          "text": [
            "--- Demonstração de Sincronização de Relógios com NTP ---\n",
            "Baseado no conceito de que sistemas distribuídos precisam sincronizar suas ações [1]\n",
            "\n",
            "Ocorreu um erro ao tentar sincronizar o relógio: [Errno -8] Servname not supported for ai_socktype\n",
            "Verifique sua conexão com a internet ou tente um servidor NTP diferente.\n",
            "Certifique-se de que a biblioteca 'ntplib' está instalada.\n"
          ]
        }
      ]
    },
    {
      "cell_type": "code",
      "source": [
        " !pip install ntplib"
      ],
      "metadata": {
        "colab": {
          "base_uri": "https://localhost:8080/"
        },
        "id": "1nGSlsQo1LIe",
        "outputId": "b9a31c77-b5ce-46de-d90d-f5cca572458d"
      },
      "execution_count": 4,
      "outputs": [
        {
          "output_type": "stream",
          "name": "stdout",
          "text": [
            "Collecting ntplib\n",
            "  Downloading ntplib-0.4.0-py2.py3-none-any.whl.metadata (1.6 kB)\n",
            "Downloading ntplib-0.4.0-py2.py3-none-any.whl (6.8 kB)\n",
            "Installing collected packages: ntplib\n",
            "Successfully installed ntplib-0.4.0\n"
          ]
        }
      ]
    },
    {
      "cell_type": "code",
      "execution_count": null,
      "metadata": {
        "colab": {
          "base_uri": "https://localhost:8080/"
        },
        "id": "qQKkhh0gtvFM",
        "outputId": "98337435-1175-4bba-ca68-f533b6f4c0f2"
      },
      "outputs": [
        {
          "output_type": "stream",
          "name": "stdout",
          "text": [
            "Digite o nome do aluno: miguel\n",
            "Digite o número de matrícula: 14\n",
            "Digite a nota final do aluno (0 a 10): 4\n",
            "O aluno fez a inscrição? (s/n): n\n",
            " Dados do Aluno \n",
            "Nome: miguel\n",
            "Matrícula: 14\n",
            "Nota Final: 4.00\n",
            "Inscrição Realizada: Não\n",
            "Status: Reprovado  (Inscrição pendente)\n"
          ]
        }
      ],
      "source": [
        "#livro\n",
        "\n",
        "#x = 10\n",
        "#nome = 'aluno'\n",
        "#nota = 8.75\n",
        "#fez_inscricao = True\n",
        "\n",
        "#print(int(x))\n",
        "#print(str(nome))\n",
        "#print(float(nota))\n",
        "#print(bool(fez_inscricao))\n",
        "\n",
        "\n",
        "\n",
        "#cod mais elaborado\n",
        "\n",
        "def cadastrar_aluno():\n",
        "    try: #Se o usuário digitar algo errado, como uma letra onde deveria ser um número, o cod gera um erro.\n",
        "        nome = input(\"Digite o nome do aluno: \").strip() #input() para capturar três informações do usuário\n",
        "        x = int(input(\"Digite o número de matrícula: \"))\n",
        "        nota = float(input(\"Digite a nota final do aluno (0 a 10): \")) #float → aceita casas decimais\n",
        "\n",
        "        # Processando a resposta de inscrição\n",
        "        fez_inscricao_input = input(\"O aluno fez a inscrição? (s/n): \").strip().lower() #.strip() → Remove espaços extras // .lower() → Converte todas as letras para minúsculas.\n",
        "        fez_inscricao = \"Sim\" if fez_inscricao_input == 's' else \"Não\"\n",
        "\n",
        "        print(\" Dados do Aluno \")\n",
        "        print(f\"Nome: {nome}\")\n",
        "        print(f\"Matrícula: {x}\")\n",
        "        print(f\"Nota Final: {nota:.2f}\") #.2 → Define que serão duas casas decimais. f → float\n",
        "        print(f\"Inscrição Realizada: {fez_inscricao}\")\n",
        "\n",
        "        # Verificação da situação do aluno com base na nota\n",
        "        if nota >= 7:\n",
        "            status = \"Aprovado \"\n",
        "        elif 5 <= nota < 7:\n",
        "            status = \"Em recuperação \"\n",
        "        else:\n",
        "            status = \"Reprovado \"\n",
        "\n",
        "        # Exibindo status com ou sem inscrição\n",
        "        if fez_inscricao == \"Não\":\n",
        "            print(f\"Status: {status} (Inscrição pendente)\")\n",
        "        else:\n",
        "            print(f\"Status: {status}\")\n",
        "\n",
        "    except ValueError: #O except ValueError captura esse erro e exibe uma mensagem personalizada para o usuário, mm vez do programa quebrar e parar de funcionar, ele trata o erro de forma mais amigável.\n",
        "        print(\"Erro: Certifique-se de digitar os dados corretamente!\")\n",
        "\n",
        "# Chamando a função de cadastro\n",
        "cadastrar_aluno() #faz tudo rodar\n"
      ]
    },
    {
      "cell_type": "code",
      "source": [
        "def busca_binaria(lista, numero):\n",
        "    esquerda = 0\n",
        "    direita = len(lista) - 1\n",
        "\n",
        "    while esquerda <= direita:\n",
        "        meio = (esquerda + direita) // 2  # Pegamos o meio da lista\n",
        "\n",
        "        if lista[meio] == numero:\n",
        "            return meio  # Encontramos o número!\n",
        "        elif lista[meio] < numero:\n",
        "            esquerda = meio + 1  # Procuramos na metade direita\n",
        "        else:\n",
        "            direita = meio - 1  # Procuramos na metade esquerda\n",
        "\n",
        "    return -1  # Se não encontrar, retorna -1\n",
        "\n",
        "# Lista de exemplo\n",
        "numeros = [1, 3, 5, 7, 9, 11, 13, 15]\n",
        "\n",
        "# Testes de busca\n",
        "print(\"Posição do número 11:\", busca_binaria(numeros, 11))  # Retorna 3\n",
        "print(\"Posição do número 9:\", busca_binaria(numeros, 9))  # Retorna 4\n",
        "print(\"Posição do número 15:\", busca_binaria(numeros, 15))  # Retorna 7\n",
        "\n",
        "#numero nao encontrado\n",
        "print(\"Posição do número 22:\", busca_binaria(numeros, 22))  # Retorna 7\n",
        "\n",
        "\n"
      ],
      "metadata": {
        "colab": {
          "base_uri": "https://localhost:8080/"
        },
        "id": "6pNc95JcwNW6",
        "outputId": "b6cdb389-3071-4fd8-9bd6-3ff17976f6e2"
      },
      "execution_count": null,
      "outputs": [
        {
          "output_type": "stream",
          "name": "stdout",
          "text": [
            "Posição do número 11: 5\n",
            "Posição do número 9: 4\n",
            "Posição do número 15: 7\n",
            "Posição do número 22: -1\n"
          ]
        }
      ]
    },
    {
      "cell_type": "code",
      "source": [
        "nome = input(\"Digite um nome: \")\n",
        "print(nome)\n",
        "\n"
      ],
      "metadata": {
        "colab": {
          "base_uri": "https://localhost:8080/"
        },
        "id": "4tdaP4mUuMY6",
        "outputId": "c9c2a7ce-86b3-427e-f6c5-11910863a6fd"
      },
      "execution_count": null,
      "outputs": [
        {
          "output_type": "stream",
          "name": "stdout",
          "text": [
            "Digite um nome: jão\n",
            "jão\n"
          ]
        }
      ]
    },
    {
      "cell_type": "code",
      "source": [
        "# Qual o resultado armazendo na variável operacao_1: 25 ou 17?\n",
        "operacao_1 = 2 + 3 * 5\n",
        "\n",
        "print(f\"Resultado em operacao_1 = {operacao_1}\")"
      ],
      "metadata": {
        "colab": {
          "base_uri": "https://localhost:8080/"
        },
        "id": "g9P12e0euvkj",
        "outputId": "a22ea28e-c45a-4fcb-87b6-2259a97b09c0"
      },
      "execution_count": null,
      "outputs": [
        {
          "output_type": "stream",
          "name": "stdout",
          "text": [
            "Resultado em operacao_1 = 17\n"
          ]
        }
      ]
    },
    {
      "cell_type": "code",
      "source": [
        "# Qual o resultado armazendo na variável operacao_2: 25 ou 17?\n",
        "operacao_2 = (2 + 3) * 5\n",
        "\n",
        "print(f\"Resultado em operacao_2 = {operacao_2}\")"
      ],
      "metadata": {
        "colab": {
          "base_uri": "https://localhost:8080/"
        },
        "id": "jqgnZaqRu4Ai",
        "outputId": "c10c614d-cbef-42e3-faab-3e89537d794f"
      },
      "execution_count": null,
      "outputs": [
        {
          "output_type": "stream",
          "name": "stdout",
          "text": [
            "Resultado em operacao_2 = 25\n"
          ]
        }
      ]
    },
    {
      "cell_type": "code",
      "source": [
        "# Qual o resultado armazendo na variável operacao_3: 4 ou 1?\n",
        "operacao_3 = 4 / 2 ** 2\n",
        "\n",
        "print(f\"Resultado em operacao_3 = {operacao_3}\")\n"
      ],
      "metadata": {
        "colab": {
          "base_uri": "https://localhost:8080/"
        },
        "id": "ahfmITTLvASP",
        "outputId": "a5d7f400-ab56-4678-9145-5e2c57d3dc70"
      },
      "execution_count": null,
      "outputs": [
        {
          "output_type": "stream",
          "name": "stdout",
          "text": [
            "Resultado em operacao_3 = 1.0\n"
          ]
        }
      ]
    },
    {
      "cell_type": "code",
      "source": [
        "# Qual o resultado armazendo na variável operacao_4: 1 ou 5?\n",
        "operacao_4 = 13 % 3 + 4\n",
        "\n",
        "print(f\"Resultado em operacao_4 = {operacao_4}\")\n"
      ],
      "metadata": {
        "colab": {
          "base_uri": "https://localhost:8080/"
        },
        "id": "_bJunagovTJ1",
        "outputId": "a20e5d89-40f3-4fa6-dba5-08c07e49a25c"
      },
      "execution_count": null,
      "outputs": [
        {
          "output_type": "stream",
          "name": "stdout",
          "text": [
            "Resultado em operacao_4 = 5\n"
          ]
        }
      ]
    },
    {
      "cell_type": "code",
      "source": [
        "a = 2\n",
        "b = 0.5\n",
        "c = 1\n",
        "x = float(input(\"Digite o valor de x: \"))  # Convertendo para float\n",
        "y = a * x ** 2 + b * x + c\n",
        "\n",
        "print(f\"O resultado de y para x = {x} é {y}.\")\n"
      ],
      "metadata": {
        "colab": {
          "base_uri": "https://localhost:8080/"
        },
        "id": "JM4kY0DQvbYP",
        "outputId": "112c0052-44f3-47c2-e528-aff5447c2581"
      },
      "execution_count": null,
      "outputs": [
        {
          "output_type": "stream",
          "name": "stdout",
          "text": [
            "Digite o valor de x: 3\n",
            "O resultado de y para x = 3.0 é 20.5.\n"
          ]
        }
      ]
    },
    {
      "cell_type": "code",
      "source": [
        "import pandas as pd\n",
        "\n",
        "pd.Series(data=5)\n",
        "\n",
        "lista_nomes = 'Howard Ian Peter Jonah Kellie'.split()\n",
        "lista_nomes\n",
        "\n",
        "pd.Series(lista_nomes)\n",
        "\n",
        "dados = {\n",
        "    'nome1': 'Howard',\n",
        "    'nome2': 'Ian',\n",
        "    'nome3': 'Peter',\n",
        "    'nome4': 'Jonah',\n",
        "    'nome5': 'Kellie'\n",
        "}\n",
        "pd.Series(dados)\n",
        "\n",
        "cpfs = \"\"\" 111.1111.111 222.222.222-22 333.333.333-33\n",
        "444.444.444-44 555.555.555-55 \"\"\".split()\n",
        "cpfs\n",
        "\n",
        "series_dados =pd.Series(lista_nomes, index=cpfs)\n",
        "series_dados\n",
        "\n",
        "series_dados. loc['111.1111.111']\n",
        "\n",
        "series_dados = pd.Series([10.2, -1, None, 15, 23.4])"
      ],
      "metadata": {
        "id": "3VS7Ik7f-4gm"
      },
      "execution_count": null,
      "outputs": []
    },
    {
      "cell_type": "code",
      "source": [
        "\n",
        "\n"
      ],
      "metadata": {
        "id": "QAIVARmzEmHZ"
      },
      "execution_count": null,
      "outputs": []
    }
  ]
}